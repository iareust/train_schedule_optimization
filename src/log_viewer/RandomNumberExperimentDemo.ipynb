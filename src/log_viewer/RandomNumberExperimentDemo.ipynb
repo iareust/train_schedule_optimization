{
 "cells": [
  {
   "cell_type": "markdown",
   "metadata": {
    "extensions": {
     "jupyter_dashboards": {
      "version": 1,
      "views": {
       "grid_default": {},
       "report_default": {}
      }
     }
    },
    "hide_input": true
   },
   "source": [
    "# Experiment A - Random Time Schedules"
   ]
  },
  {
   "cell_type": "code",
   "execution_count": 1,
   "metadata": {
    "hide_input": true,
    "scrolled": true
   },
   "outputs": [
    {
     "data": {
      "text/html": [
       "<style>.container { width:100% !important; }</style>"
      ],
      "text/plain": [
       "<IPython.core.display.HTML object>"
      ]
     },
     "metadata": {},
     "output_type": "display_data"
    }
   ],
   "source": [
    "from ipywidgets import AppLayout, GridspecLayout\n",
    "from ipywidgets import interact\n",
    "import pandas as pd\n",
    "import numpy as np\n",
    "\n",
    "\n",
    "\n",
    "from IPython.core.display import display, HTML\n",
    "display(HTML(\"<style>.container { width:100% !important; }</style>\"))"
   ]
  },
  {
   "cell_type": "code",
   "execution_count": 2,
   "metadata": {
    "hide_input": false,
    "scrolled": true
   },
   "outputs": [],
   "source": [
    "from ipywidgets import Button, Layout, jslink, IntText, IntSlider, GridspecLayout\n",
    "from ipywidgets import FloatSlider\n",
    "import json\n",
    "from bqplot import OrdinalScale, LinearScale, Lines, Axis, Figure, Scatter, Label\n",
    "from ipywidgets import interact, interactive, fixed, interact_manual\n",
    "import ipywidgets as widgets\n",
    "import matplotlib.pyplot\n",
    "import pandas as pd\n",
    "\n",
    "from IPython.display import display"
   ]
  },
  {
   "cell_type": "code",
   "execution_count": 3,
   "metadata": {
    "scrolled": true
   },
   "outputs": [],
   "source": [
    "store = pd.HDFStore('./min_run.h5')\n",
    "min_stations = store['stations']\n",
    "min_trains = store['train']\n",
    "min_tracks = store['track']\n",
    "store.close()\n",
    "\n",
    "store = pd.HDFStore('./max_run.h5')\n",
    "max_stations = store['stations']\n",
    "max_trains = store['train']\n",
    "max_tracks = store['track']\n",
    "store.close()\n"
   ]
  },
  {
   "cell_type": "code",
   "execution_count": 5,
   "metadata": {
    "hide_input": true,
    "scrolled": true
   },
   "outputs": [],
   "source": [
    "import matplotlib.pyplot as plt \n",
    "plt.rcParams['figure.dpi'] = 150\n",
    "\n",
    "class TrainPloter():\n",
    "    \n",
    "    def __init__(self, id, titel, trains, stations, tracks):\n",
    "        self.id = id\n",
    "        self.trains = trains\n",
    "        self.stations = stations\n",
    "        self.tracks = tracks\n",
    "        self.titel = titel\n",
    "    \n",
    "    def plot_station(self, ds):\n",
    "        plt.scatter(ds['Location'][0], ds['Location'][1], marker=\"s\", zorder=15)\n",
    "        plt.text(ds['Location'][0], ds['Location'][1]+340, ds['Id'], fontsize=9, zorder=21)\n",
    "        plt.text(ds['Location'][0], ds['Location'][1] + 120, '{} | {}'.format(ds['PassengersWaiting'], ds['PassengersHandled']), fontsize=9, zorder=21)\n",
    "        \n",
    "    def plot_train(self, ds):\n",
    "        plt.scatter(ds['Location'][0], ds['Location'][1], marker=\"x\", zorder=20)\n",
    "        plt.text(ds['Location'][0] + 20, ds['Location'][1]- 150, ds['Id'], fontsize=9, zorder=21)\n",
    "        plt.text(ds['Location'][0] + 20, ds['Location'][1] - 350, '{}/{}'.format(ds['PassengerLevel'], ds['Capacity']), fontsize=9, zorder=21)\n",
    "         \n",
    "    def plot_track(self, ds):\n",
    "        plt.plot(ds['PositionA'],ds['PositionB'],'-', zorder=1, color='grey', linewidth=ds['Capacity'])\n",
    "    \n",
    "    \n",
    "    def plot_simulation(self, timeslot):\n",
    "        plt.figure(self.id, figsize=(7,4))\n",
    "        plt.clf()\n",
    "         \n",
    "        for ds in self.trains[timeslot].iloc:\n",
    "            self.plot_train(ds)\n",
    "            \n",
    "        for ds in self.stations[timeslot].iloc:\n",
    "            self.plot_station(ds)\n",
    "        \n",
    "        for ds in self.tracks[timeslot].iloc:\n",
    "            self.plot_track(ds)\n",
    "        plt.title(self.titel)\n",
    "        plt.plot()"
   ]
  },
  {
   "cell_type": "code",
   "execution_count": 6,
   "metadata": {
    "hide_input": true,
    "scrolled": false
   },
   "outputs": [
    {
     "data": {
      "application/vnd.jupyter.widget-view+json": {
       "model_id": "b67f44ab9001484db901a328e1b8df3d",
       "version_major": 2,
       "version_minor": 0
      },
      "text/plain": [
       "GridspecLayout(children=(Output(layout=Layout(grid_area='widget001')), Output(layout=Layout(grid_area='widget0…"
      ]
     },
     "metadata": {},
     "output_type": "display_data"
    }
   ],
   "source": [
    "grid_anim = GridspecLayout(10,3)\n",
    "\n",
    "play = widgets.Play(\n",
    "    value=0,\n",
    "    min=0,\n",
    "    max=1420,\n",
    "    step=1,\n",
    "    interval=100,\n",
    "    description=\"Press play\",\n",
    "    disabled=False,\n",
    "    layout=Layout(width='auto', height='auto')\n",
    ")\n",
    "slider = widgets.IntSlider(min=0, max=1420, step=1, layout=Layout(width='auto', height='auto'), continuous_update=False)\n",
    "widgets.jslink((play, 'value'), (slider, 'value'))\n",
    "\n",
    "\n",
    "min_ploter = TrainPloter(1, 'Network with worst overall Reward\\n', min_trains, min_stations, min_tracks)\n",
    "max_ploter = TrainPloter(2, 'Network with best overall Reward\\n', max_trains, max_stations, max_tracks)\n",
    "\n",
    "min_output_network = widgets.interactive_output(min_ploter.plot_simulation, {'timeslot': slider})\n",
    "max_output_network = widgets.interactive_output(max_ploter.plot_simulation, {'timeslot': slider})\n",
    "\n",
    "\n",
    "\n",
    "grid_anim[0:9,0] = min_output_network\n",
    "grid_anim[0:9,1] = max_output_network\n",
    "grid_anim[9,0:1] = widgets.VBox([slider, play], layout=Layout(width='auto', height='auto'))\n",
    "\n",
    "grid_anim"
   ]
  },
  {
   "cell_type": "markdown",
   "metadata": {},
   "source": [
    "<br>\n",
    "\n",
    "## <center>Overview Reward Function </center>"
   ]
  },
  {
   "cell_type": "code",
   "execution_count": 12,
   "metadata": {
    "hide_input": false,
    "scrolled": true
   },
   "outputs": [],
   "source": [
    "def create_quantile_plot(data, subdata: str, x_lable: str, title: str=''):\n",
    "    \n",
    "    head = list(data[0][subdata].keys())\n",
    "    df = pd.DataFrame([tuple(d[subdata].values()) for d in data], columns=head)\n",
    "    df= (df/2.0)*100\n",
    "    x = head[:-1]\n",
    "    \n",
    "    quantiles_10 = [n for n in df[:].quantile(0.1)][:-1]\n",
    "    quantiles_25 = [n for n in df[:].quantile(0.25)][:-1]\n",
    "    quantiles_50 = [n for n in df[:].quantile(0.5)][:-1]\n",
    "    quantiles_75 = [n for n in df[:].quantile(0.75)][:-1]\n",
    "    quantiles_90 = [n for n in df[:].quantile(0.9)][:-1]\n",
    "    \n",
    "    \n",
    "    x_ord = OrdinalScale()\n",
    "    y_sc = LinearScale(min=0, max=100)\n",
    "    \n",
    "    line_q10 = Lines(x=x, y=quantiles_10, scales={'x': x_ord, 'y': y_sc}, stroke_width=2, colors=['#758eff'], display_legend=True, labels=['10% Quantile'])\n",
    "    line_q25 = Lines(x=x, y=quantiles_25, scales={'x': x_ord, 'y': y_sc}, stroke_width=2, colors=['#758eff'], line_style='dotted',display_legend=True, labels=['25% Quantile'])\n",
    "    line_q50 = Lines(x=x, y=quantiles_50, scales={'x': x_ord, 'y': y_sc}, stroke_width=2, colors=['#3f59cf'], display_legend=True, labels=['50% Quantile'])\n",
    "    line_q75 = Lines(x=x, y=quantiles_75, scales={'x': x_ord, 'y': y_sc}, stroke_width=2, colors=['#0422a7'], line_style='dotted', display_legend=True, labels=['75% Quantile'])\n",
    "    line_q90 = Lines(x=x, y=quantiles_90, scales={'x': x_ord, 'y': y_sc}, stroke_width=2, colors=['#0422a7'], display_legend=True, labels=['90% Quantile'])\n",
    "    \n",
    "    ax_x = Axis(scale=x_ord, grid_lines='solid', label=x_lable)\n",
    "    ax_y = Axis(scale=y_sc, grid_lines='dashed', orientation='vertical', label='% of maximum Reward')\n",
    "    \n",
    "    return Figure(marks=[line_q90, line_q75, line_q50, line_q25, line_q10], axes=[ax_x, ax_y], title=title, legend_location='bottom-left')"
   ]
  },
  {
   "cell_type": "code",
   "execution_count": 13,
   "metadata": {
    "hide_input": true,
    "scrolled": false
   },
   "outputs": [
    {
     "data": {
      "application/vnd.jupyter.widget-view+json": {
       "model_id": "19029744bad24f9e915968e4ba42af1e",
       "version_major": 2,
       "version_minor": 0
      },
      "text/plain": [
       "GridspecLayout(children=(Figure(axes=[Axis(label='Number of trains per h per line', scale=OrdinalScale()), Axi…"
      ]
     },
     "metadata": {},
     "output_type": "display_data"
    }
   ],
   "source": [
    "\n",
    "grid = GridspecLayout(1,3)\n",
    "#plt.tight_layout()\n",
    "\n",
    "\n",
    "with open('../experiments/data3.json') as json_file:\n",
    "    data = json.load(json_file)\n",
    "\n",
    "\n",
    "fig1 = create_quantile_plot(data, 'trains_increase', 'Number of trains per h per line')\n",
    "fig2 = create_quantile_plot(data, 'passenger_increase', 'Multiple of base passenger demand')\n",
    "fig3 = create_quantile_plot(data, 'trains_delay', 'Duration of single train breakdown in system')\n",
    "\n",
    "grid[0, 0] = create_quantile_plot(data, 'trains_increase', 'Number of trains per h per line', 'Change of Reward with increasing amount of trains')\n",
    "grid[0, 1] = create_quantile_plot(data, 'passenger_increase', 'Multiple of base passenger demand', 'Change of Reward with increasing demand ')\n",
    "grid[0, 2] = create_quantile_plot(data, 'trains_delay', 'Duration of single train breakdown', 'Change of Reward with increasingly long breakdown of a single train')\n",
    "grid\n"
   ]
  },
  {
   "cell_type": "code",
   "execution_count": null,
   "metadata": {
    "pycharm": {
     "is_executing": true
    }
   },
   "outputs": [],
   "source": []
  }
 ],
 "metadata": {
  "extensions": {
   "jupyter_dashboards": {
    "activeView": "grid_default",
    "version": 1,
    "views": {
     "grid_default": {
      "cellMargin": 10,
      "defaultCellHeight": 20,
      "maxColumns": 12,
      "name": "grid",
      "type": "grid"
     },
     "report_default": {
      "name": "report",
      "type": "report"
     }
    }
   }
  },
  "hide_input": false,
  "kernelspec": {
   "display_name": "Python 3",
   "language": "python",
   "name": "python3"
  },
  "language_info": {
   "codemirror_mode": {
    "name": "ipython",
    "version": 3
   },
   "file_extension": ".py",
   "mimetype": "text/x-python",
   "name": "python",
   "nbconvert_exporter": "python",
   "pygments_lexer": "ipython3",
   "version": "3.7.5"
  }
 },
 "nbformat": 4,
 "nbformat_minor": 4
}
